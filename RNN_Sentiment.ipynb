{
 "cells": [
  {
   "cell_type": "markdown",
   "metadata": {},
   "source": [
    "# RNN Sentiment\n",
    "\n",
    "This is the notebook for constructing Theano RNN layers and RNN sentiment classifier. The text for an encoder-decoder can be found in a lot of places, and one reference is here: [http://anie.me/rnn-encoder-decoder/](http://anie.me/rnn-encoder-decoder/). This notebook might also contain a section on vanilla RNN classification task, and a section on RNN autoencoder as well. Note in this implementation, we are being a lot more efficient than some blog posts (like in WildML)."
   ]
  },
  {
   "cell_type": "code",
   "execution_count": 1,
   "metadata": {
    "collapsed": false
   },
   "outputs": [],
   "source": [
    "from classifier.rnn_layers import *\n",
    "from classifier.util import *\n",
    "from data.sentiment_util import *\n",
    "from vis.util import *\n",
    "import numpy as np\n",
    "\n",
    "import matplotlib.pyplot as plt\n",
    "\n",
    "%matplotlib inline\n",
    "plt.rcParams['figure.figsize'] = (10.0, 8.0) # set default size of plots\n",
    "plt.rcParams['image.interpolation'] = 'nearest'\n",
    "plt.rcParams['image.cmap'] = 'gray'\n",
    "\n",
    "# for auto-reloading external modules\n",
    "# see http://stackoverflow.com/questions/1907993/autoreload-of-modules-in-ipython\n",
    "%load_ext autoreload\n",
    "%autoreload 2\n",
    "\n",
    "def rel_error(x, y):\n",
    "  \"\"\" returns relative error \"\"\"\n",
    "  return np.max(np.abs(x - y) / (np.maximum(1e-8, np.abs(x) + np.abs(y))))"
   ]
  },
  {
   "cell_type": "markdown",
   "metadata": {
    "collapsed": true
   },
   "source": [
    "## Loading Data Sentiment\n",
    "\n",
    "We use SNLI for inference task (the main purpose of encoder-decoder). We use a partial IMDB dataset provided by Yoon Kim (also preprocessed into numpy form)."
   ]
  },
  {
   "cell_type": "code",
   "execution_count": 2,
   "metadata": {
    "collapsed": false,
    "scrolled": true
   },
   "outputs": [
    {
     "name": "stdout",
     "output_type": "stream",
     "text": [
      "loading training sentences...\n",
      "loading dev sentences...\n",
      "loading test sentences...\n",
      "X_val <type 'numpy.ndarray'> (534, 57) int32\n",
      "X_train <type 'numpy.ndarray'> (9594, 57) int32\n",
      "y_train <type 'numpy.ndarray'> (9594,) int32\n",
      "W_embed <type 'numpy.ndarray'> (18768, 300) float32\n",
      "X_test <type 'numpy.ndarray'> (534, 57) int32\n",
      "y_val <type 'numpy.ndarray'> (534,) int32\n",
      "idx_word_map <type 'list'> 18768\n",
      "y_test <type 'numpy.ndarray'> (534,) int32\n",
      "word_idx_map <type 'dict'> 18768\n"
     ]
    }
   ],
   "source": [
    "data = load_data('data/rt_sentiment_data.npz', 'data/sentiment_vocab.json')\n",
    "\n",
    "# NOTE: right now this doesn't work, but we want to hold it to \n",
    "# the same standard as other code\n",
    "# Print out all the keys and values from the data dictionary\n",
    "for k, v in data.iteritems():\n",
    "  if type(v) == np.ndarray:\n",
    "    print k, type(v), v.shape, v.dtype\n",
    "  else:\n",
    "    print k, type(v), len(v)"
   ]
  },
  {
   "cell_type": "markdown",
   "metadata": {},
   "source": [
    "## Look at the Data\n",
    "\n",
    "All the sentences in train, dev, and test are encoded already by indicies. Now we see if we can successfully decode them into actual sentence with our `decode()` function."
   ]
  },
  {
   "cell_type": "code",
   "execution_count": 3,
   "metadata": {
    "collapsed": false,
    "scrolled": true
   },
   "outputs": [
    {
     "name": "stdout",
     "output_type": "stream",
     "text": [
      "a cleverly crafted but ultimately hollow mockumentary <END>\n"
     ]
    },
    {
     "data": {
      "text/plain": [
       "0"
      ]
     },
     "execution_count": 3,
     "metadata": {},
     "output_type": "execute_result"
    }
   ],
   "source": [
    "print decode_sentences(data['X_train'][1790], data['idx_word_map'])\n",
    "data['y_train'][1790]"
   ]
  },
  {
   "cell_type": "markdown",
   "metadata": {},
   "source": [
    "## Vanilla RNN stepforward\n",
    "\n",
    "We implement the RNN for a single forward step in Theano. We adapted `rnn_stepforward` so it works with theano's special loop construct."
   ]
  },
  {
   "cell_type": "code",
   "execution_count": 12,
   "metadata": {
    "collapsed": false
   },
   "outputs": [
    {
     "name": "stdout",
     "output_type": "stream",
     "text": [
      "next_h error:  9.608901251e-08\n"
     ]
    }
   ],
   "source": [
    "N, D, H = 3, 10, 4\n",
    "\n",
    "x = np.asarray(np.linspace(-0.4, 0.7, num=N*D).reshape(N, D), dtype='float32')\n",
    "prev_h = np.asarray(np.linspace(-0.2, 0.5, num=N*H).reshape(N, H), dtype='float32')\n",
    "Wx = np.asarray(np.linspace(-0.1, 0.9, num=D*H).reshape(D, H), dtype='float32')\n",
    "Wh = np.asarray(np.linspace(-0.3, 0.7, num=H*H).reshape(H, H), dtype='float32')\n",
    "b = np.asarray(np.linspace(-0.2, 0.4, num=H), dtype='float32')\n",
    "\n",
    "x_sym = T.matrix('x')\n",
    "prev_h_shared = theano.shared(\n",
    "            value=prev_h,\n",
    "            name='prev_h',\n",
    "            borrow=True\n",
    "        )\n",
    "Wx_shared = theano.shared(\n",
    "            value=Wx,\n",
    "            name='Wx',\n",
    "            borrow=True\n",
    ")\n",
    "Wh_shared = theano.shared(\n",
    "            value=Wh,\n",
    "            name='Wh',\n",
    "            borrow=True\n",
    ")\n",
    "b_shared = theano.shared(\n",
    "            value=b,\n",
    "            name='b',\n",
    "            borrow=True\n",
    ")\n",
    "\n",
    "next_h, _ = rnn_step_forward(x_sym, prev_h_shared, Wx_shared, Wh_shared, b_shared, 0, T.zeros((N, 1, H)))\n",
    "\n",
    "get_value_nexth = theano.function([x_sym], next_h)\n",
    "\n",
    "expected_next_h = np.asarray([\n",
    "  [-0.58172089, -0.50182032, -0.41232771, -0.31410098],\n",
    "  [ 0.66854692,  0.79562378,  0.87755553,  0.92795967],\n",
    "  [ 0.97934501,  0.99144213,  0.99646691,  0.99854353]])\n",
    "\n",
    "print 'next_h error: ', rel_error(expected_next_h, get_value_nexth(x))"
   ]
  },
  {
   "cell_type": "markdown",
   "metadata": {},
   "source": [
    "## Theano `scan()` Function"
   ]
  },
  {
   "cell_type": "code",
   "execution_count": 4,
   "metadata": {
    "collapsed": false
   },
   "outputs": [
    {
     "name": "stdout",
     "output_type": "stream",
     "text": [
      "[  0.   1.   4.   9.  16.  25.  36.  49.  64.  81.]\n",
      "[  0.00000000e+00   1.00000000e+00   1.60000000e+01   8.10000000e+01\n",
      "   2.56000000e+02   6.25000000e+02   1.29600000e+03   2.40100000e+03\n",
      "   4.09600000e+03   6.56100000e+03]\n"
     ]
    }
   ],
   "source": [
    "k = T.iscalar(\"k\")\n",
    "A = T.vector(\"A\")\n",
    "\n",
    "def power(prior_result, A):\n",
    "    return prior_result * A\n",
    "\n",
    "# Symbolic description of the result\n",
    "# Comment: interesting, so scan has a very high freedom\n",
    "# any variable of scan can be a symbolic variable passed in...\n",
    "# meaning, when we have RNN\n",
    "result, _ = theano.scan(fn=power,\n",
    "                              outputs_info=T.ones_like(A),  # handles initialization\n",
    "                              non_sequences=A,\n",
    "                              n_steps=k)\n",
    "\n",
    "# We only care about A**k, but scan has provided us with A**1 through A**k.\n",
    "# Discard the values that we don't care about. Scan is smart enough to\n",
    "# notice this and not waste memory saving them.\n",
    "final_result = result[-1]\n",
    "\n",
    "# compiled function that returns A**k\n",
    "power = theano.function(inputs=[A,k], outputs=final_result) # , updates=updates\n",
    "\n",
    "print(power(range(10),2))\n",
    "print(power(range(10),4))"
   ]
  },
  {
   "cell_type": "code",
   "execution_count": 6,
   "metadata": {
    "collapsed": false
   },
   "outputs": [
    {
     "name": "stdout",
     "output_type": "stream",
     "text": [
      "(3, 2, 5)\n",
      "[[[-0.42070749 -0.27279261 -0.11074946  0.0574041   0.22236253]\n",
      "  [-0.55857474 -0.39065823 -0.19198182  0.02378407  0.23735671]]\n",
      "\n",
      " [[-0.39525807 -0.2255466  -0.04094539  0.14649412  0.32397318]\n",
      "  [-0.27150196 -0.07088803  0.13562937  0.33099726  0.50158769]]\n",
      "\n",
      " [[-0.42305112 -0.24223728 -0.04287028  0.15997045  0.35014525]\n",
      "  [-0.51014829 -0.3052443  -0.06755204  0.17806391  0.40333042]]]\n"
     ]
    }
   ],
   "source": [
    "# Now we try something slightly more complex:\n",
    "\n",
    "N, TS, D, H = 2, 3, 4, 5\n",
    "\n",
    "x = T.tensor3('x')\n",
    "\n",
    "x_num = np.asarray(np.linspace(-0.1, 0.3, num=N*TS*D).reshape(N, TS, D), dtype='float32')\n",
    "h0 = np.asarray(np.linspace(-0.3, 0.1, num=N*H).reshape(N, H), dtype='float32')\n",
    "Wx = np.asarray(np.linspace(-0.2, 0.4, num=D*H).reshape(D, H), dtype='float32')\n",
    "Wh = np.asarray(np.linspace(-0.4, 0.1, num=H*H).reshape(H, H), dtype='float32')\n",
    "b = np.asarray(np.linspace(-0.7, 0.1, num=H), dtype='float32')\n",
    "\n",
    "h0_shared = theano.shared(\n",
    "            value=h0,\n",
    "            name='h0',\n",
    "            borrow=True\n",
    "        )\n",
    "\n",
    "Wx_shared = theano.shared(\n",
    "            value=Wx,\n",
    "            name='Wx',\n",
    "            borrow=True\n",
    "        )\n",
    "\n",
    "Wh_shared = theano.shared(\n",
    "            value=Wh,\n",
    "            name='Wh',\n",
    "            borrow=True\n",
    "        )\n",
    "\n",
    "b_shared = theano.shared(\n",
    "            value=b,\n",
    "            name='b',\n",
    "            borrow=True\n",
    "        )\n",
    "\n",
    "def slice_add(x, prev_h, Wx, Wh, b):\n",
    "    next_h = T.tanh(T.dot(prev_h, Wh) + T.dot(x, Wx) + b)\n",
    "    return next_h\n",
    "\n",
    "result, _ = theano.scan(fn=lambda t, ht: slice_add(x[:, t, :], ht, Wx_shared, Wh_shared, b_shared),\n",
    "                        sequences=T.arange(TS),\n",
    "                        outputs_info=h0_shared)\n",
    "\n",
    "slice_x = theano.function(inputs=[x], outputs=result)\n",
    "\n",
    "final_res = slice_x(x_num)\n",
    "\n",
    "print(final_res.shape)\n",
    "\n",
    "print final_res"
   ]
  },
  {
   "cell_type": "markdown",
   "metadata": {},
   "source": [
    "## Vanilla RNN Forward\n",
    "\n",
    "Now we use `theano.scan()` to implement RNN forward over T sequence. It turns out we need quite some tricks to make this work smoothly."
   ]
  },
  {
   "cell_type": "code",
   "execution_count": 13,
   "metadata": {
    "collapsed": false
   },
   "outputs": [
    {
     "name": "stdout",
     "output_type": "stream",
     "text": [
      "h error:  2.24007004401e-07\n"
     ]
    }
   ],
   "source": [
    "N, TS, D, H = 2, 3, 4, 5\n",
    "\n",
    "x = T.tensor3('x')\n",
    "\n",
    "x_num = np.asarray(np.linspace(-0.1, 0.3, num=N*TS*D).reshape(N, TS, D), dtype='float32')\n",
    "h0 = np.asarray(np.linspace(-0.3, 0.1, num=N*H).reshape(N, H), dtype='float32')\n",
    "Wx = np.asarray(np.linspace(-0.2, 0.4, num=D*H).reshape(D, H), dtype='float32')\n",
    "Wh = np.asarray(np.linspace(-0.4, 0.1, num=H*H).reshape(H, H), dtype='float32')\n",
    "b = np.asarray(np.linspace(-0.7, 0.1, num=H), dtype='float32')\n",
    "\n",
    "h0_shared = theano.shared(\n",
    "            value=h0,\n",
    "            name='h0',\n",
    "            borrow=True\n",
    "        )\n",
    "\n",
    "Wx_shared = theano.shared(\n",
    "            value=Wx,\n",
    "            name='Wx',\n",
    "            borrow=True\n",
    "        )\n",
    "\n",
    "Wh_shared = theano.shared(\n",
    "            value=Wh,\n",
    "            name='Wh',\n",
    "            borrow=True\n",
    "        )\n",
    "\n",
    "b_shared = theano.shared(\n",
    "            value=b,\n",
    "            name='b',\n",
    "            borrow=True\n",
    "        )\n",
    "\n",
    "rnn_hidden_states = rnn_forward(x, h0_shared, Wx_shared, Wh_shared, b_shared, (N, TS, H))\n",
    "\n",
    "expected_h = np.asarray([\n",
    "  [\n",
    "    [-0.42070749, -0.27279261, -0.11074945,  0.05740409,  0.22236251],\n",
    "    [-0.39525808, -0.22554661, -0.0409454,   0.14649412,  0.32397316],\n",
    "    [-0.42305111, -0.24223728, -0.04287027,  0.15997045,  0.35014525],\n",
    "  ],\n",
    "  [\n",
    "    [-0.55857474, -0.39065825, -0.19198182,  0.02378408,  0.23735671],\n",
    "    [-0.27150199, -0.07088804,  0.13562939,  0.33099728,  0.50158768],\n",
    "    [-0.51014825, -0.30524429, -0.06755202,  0.17806392,  0.40333043]]])\n",
    "\n",
    "get_h = theano.function(inputs=[x], outputs=rnn_hidden_states)\n",
    "\n",
    "h = get_h(x_num)\n",
    "\n",
    "print 'h error: ', rel_error(expected_h, h)"
   ]
  },
  {
   "cell_type": "markdown",
   "metadata": {
    "collapsed": true
   },
   "source": [
    "## LSTM: step forward\n",
    "\n",
    "Adapting one step LSTM to theano"
   ]
  },
  {
   "cell_type": "code",
   "execution_count": 9,
   "metadata": {
    "collapsed": false
   },
   "outputs": [
    {
     "name": "stdout",
     "output_type": "stream",
     "text": [
      "next_h error:  4.45981854665e-08\n",
      "next_c error:  4.49625600634e-08\n"
     ]
    }
   ],
   "source": [
    "N, D, H = 3, 4, 5\n",
    "\n",
    "x_sym = T.matrix('x')\n",
    "\n",
    "x = np.asarray(np.linspace(-0.4, 1.2, num=N*D).reshape(N, D), dtype='float32')\n",
    "prev_h = np.asarray(np.linspace(-0.3, 0.7, num=N*H).reshape(N, H), dtype='float32')\n",
    "prev_c = np.asarray(np.linspace(-0.4, 0.9, num=N*H).reshape(N, H), dtype='float32')\n",
    "Wx = np.asarray(np.linspace(-2.1, 1.3, num=4*D*H).reshape(D, 4 * H), dtype='float32')\n",
    "Wh = np.asarray(np.linspace(-0.7, 2.2, num=4*H*H).reshape(H, 4 * H), dtype='float32')\n",
    "b = np.asarray(np.linspace(0.3, 0.7, num=4*H), dtype='float32')\n",
    "\n",
    "prev_h_shared = theano.shared(\n",
    "            value=prev_h,\n",
    "            name='prev_h',\n",
    "            borrow=True\n",
    "        )\n",
    "               \n",
    "prev_c_shared = theano.shared(\n",
    "            value=prev_c,\n",
    "            name='prev_c',\n",
    "            borrow=True\n",
    "        )\n",
    "\n",
    "Wx_shared = theano.shared(\n",
    "            value=Wx,\n",
    "            name='Wx',\n",
    "            borrow=True\n",
    "        )\n",
    "\n",
    "Wh_shared = theano.shared(\n",
    "            value=Wh,\n",
    "            name='Wh',\n",
    "            borrow=True\n",
    "        )\n",
    "\n",
    "b_shared = theano.shared(\n",
    "            value=b,\n",
    "            name='b',\n",
    "            borrow=True\n",
    "        )\n",
    "\n",
    "next_h, next_c = lstm_step_forward(x_sym, prev_h, prev_c, Wx, Wh, b, H)\n",
    "               \n",
    "lstm_step_forward_num = theano.function(inputs=[x_sym], outputs=[next_h, next_c])\n",
    "\n",
    "next_h_num, next_c_num = lstm_step_forward_num(x)\n",
    "\n",
    "expected_next_h = np.asarray([\n",
    "    [ 0.24635157,  0.28610883,  0.32240467,  0.35525807,  0.38474904],\n",
    "    [ 0.49223563,  0.55611431,  0.61507696,  0.66844003,  0.7159181 ],\n",
    "    [ 0.56735664,  0.66310127,  0.74419266,  0.80889665,  0.858299  ]])\n",
    "expected_next_c = np.asarray([\n",
    "    [ 0.32986176,  0.39145139,  0.451556,    0.51014116,  0.56717407],\n",
    "    [ 0.66382255,  0.76674007,  0.87195994,  0.97902709,  1.08751345],\n",
    "    [ 0.74192008,  0.90592151,  1.07717006,  1.25120233,  1.42395676]])\n",
    "\n",
    "print 'next_h error: ', rel_error(expected_next_h, next_h_num)\n",
    "print 'next_c error: ', rel_error(expected_next_c, next_c_num)"
   ]
  },
  {
   "cell_type": "markdown",
   "metadata": {},
   "source": [
    "## Vanilla LSTM Forward"
   ]
  },
  {
   "cell_type": "code",
   "execution_count": 27,
   "metadata": {
    "collapsed": false
   },
   "outputs": [
    {
     "name": "stdout",
     "output_type": "stream",
     "text": [
      "h error:  2.8783979953e-07\n"
     ]
    }
   ],
   "source": [
    "N, D, H, TS = 2, 5, 4, 3\n",
    "\n",
    "x_sym = T.tensor3('x')\n",
    "\n",
    "x = np.asarray(np.linspace(-0.4, 0.6, num=N*TS*D).reshape(N, TS, D), dtype='float32')\n",
    "h0 = np.asarray(np.linspace(-0.4, 0.8, num=N*H).reshape(N, H), dtype='float32')\n",
    "Wx = np.asarray(np.linspace(-0.2, 0.9, num=4*D*H).reshape(D, 4 * H), dtype='float32')\n",
    "Wh = np.asarray(np.linspace(-0.3, 0.6, num=4*H*H).reshape(H, 4 * H), dtype='float32')\n",
    "b = np.asarray(np.linspace(0.2, 0.7, num=4*H), dtype='float32')\n",
    "\n",
    "h0_shared = theano.shared(\n",
    "            value=h0,\n",
    "            name='h0',\n",
    "            borrow=True\n",
    "        )\n",
    "\n",
    "Wx_shared = theano.shared(\n",
    "            value=Wx,\n",
    "            name='Wx',\n",
    "            borrow=True\n",
    "        )\n",
    "\n",
    "Wh_shared = theano.shared(\n",
    "            value=Wh,\n",
    "            name='Wh',\n",
    "            borrow=True\n",
    "        )\n",
    "\n",
    "b_shared = theano.shared(\n",
    "            value=b,\n",
    "            name='b',\n",
    "            borrow=True\n",
    "        )\n",
    "\n",
    "h_sym = lstm_forward(x_sym, h0, Wx, Wh, b, (N, TS, H))\n",
    "\n",
    "get_lstm_forward_num = theano.function(inputs=[x_sym], outputs=[h_sym])\n",
    "\n",
    "h = get_lstm_forward_num(x)\n",
    "\n",
    "expected_h = np.asarray([\n",
    " [[ 0.01764008,  0.01823233,  0.01882671,  0.0194232 ],\n",
    "  [ 0.11287491,  0.12146228,  0.13018446,  0.13902939],\n",
    "  [ 0.31358768,  0.33338627,  0.35304453,  0.37250975]],\n",
    " [[ 0.45767879,  0.4761092,   0.4936887,   0.51041945],\n",
    "  [ 0.6704845,   0.69350089,  0.71486014,  0.7346449 ],\n",
    "  [ 0.81733511,  0.83677871,  0.85403753,  0.86935314]]])\n",
    "\n",
    "print 'h error: ', rel_error(expected_h, h)"
   ]
  },
  {
   "cell_type": "markdown",
   "metadata": {},
   "source": [
    "## RNN Dropout Without Memory Loss\n",
    "\n",
    "We implement a hidden state to hidden state dropout on block gate."
   ]
  },
  {
   "cell_type": "code",
   "execution_count": null,
   "metadata": {
    "collapsed": true
   },
   "outputs": [],
   "source": [
    ""
   ]
  },
  {
   "cell_type": "markdown",
   "metadata": {},
   "source": [
    "## RNN Batch Normalization\n",
    "\n",
    "We do not implement the LSTM Batch Normalization suggested by this paper [http://arxiv.org/pdf/1603.09025v3.pdf](http://arxiv.org/pdf/1603.09025v3.pdf), we start by implementing a simple Batch Normalization for RNN first."
   ]
  },
  {
   "cell_type": "code",
   "execution_count": null,
   "metadata": {
    "collapsed": true
   },
   "outputs": [],
   "source": [
    ""
   ]
  },
  {
   "cell_type": "markdown",
   "metadata": {
    "collapsed": true
   },
   "source": [
    "## Building Up RNN Encoder\n",
    "\n",
    "Unfortunately our RNN encoder is not as flexible as our CNN net.Most parameters and weights are initialized inside the RNN. We print out parameters, and final loos to examine them."
   ]
  },
  {
   "cell_type": "code",
   "execution_count": 9,
   "metadata": {
    "collapsed": false
   },
   "outputs": [
    {
     "name": "stdout",
     "output_type": "stream",
     "text": [
      "['b', 'W_embed', 'W_proj', 'Wh', 'b_proj', 'Wx']\n"
     ]
    }
   ],
   "source": [
    "encoder = RNNEncoder(data['word_idx_map'], data['idx_word_map'], data['W_embed'], max_seq_length=57, batch_size=50)\n",
    "print encoder.params.keys()"
   ]
  },
  {
   "cell_type": "markdown",
   "metadata": {},
   "source": [
    "We load in a small amount of data: 500 sentences to test if we can get a valid loss from RNNEncoder."
   ]
  },
  {
   "cell_type": "code",
   "execution_count": 10,
   "metadata": {
    "collapsed": false,
    "scrolled": false
   },
   "outputs": [
    {
     "data": {
      "text/plain": [
       "[array(0.671669602394104, dtype=float32)]"
      ]
     },
     "execution_count": 10,
     "metadata": {},
     "output_type": "execute_result"
    }
   ],
   "source": [
    "num_train = 50\n",
    "small_data = {\n",
    "  'X_train': data['X_train'][:num_train],\n",
    "  'y_train': data['y_train'][:num_train],\n",
    "  'X_val': data['X_val'][:num_train/2],\n",
    "  'y_val': data['y_val'][:num_train/2],\n",
    "}\n",
    "\n",
    "X = T.imatrix('X')\n",
    "y = T.ivector('y')\n",
    "\n",
    "loss = encoder.loss(X, y)\n",
    "\n",
    "run_once = theano.function([X, y], [loss])\n",
    "\n",
    "run_once(small_data['X_train'], small_data['y_train'])"
   ]
  },
  {
   "cell_type": "markdown",
   "metadata": {
    "collapsed": true
   },
   "source": [
    "## RNN Encoder Solver\n",
    "\n",
    "Now we construct a solver and run on a small set."
   ]
  },
  {
   "cell_type": "code",
   "execution_count": 11,
   "metadata": {
    "collapsed": false
   },
   "outputs": [
    {
     "name": "stdout",
     "output_type": "stream",
     "text": [
      "(Iteration 1 / 200) loss: 0.725732\n",
      "(Epoch 0 / 20) train acc: 0.700000; val_acc: 0.450000\n",
      "(Epoch 1 / 20) train acc: 0.500000; val_acc: 0.550000\n",
      "(Iteration 11 / 200) loss: 1.224356\n",
      "(Epoch 2 / 20) train acc: 0.250000; val_acc: 0.650000\n",
      "(Iteration 21 / 200) loss: 0.677460\n",
      "(Epoch 3 / 20) train acc: 0.450000; val_acc: 0.450000\n",
      "(Iteration 31 / 200) loss: 0.671143\n",
      "(Epoch 4 / 20) train acc: 0.400000; val_acc: 0.600000\n",
      "(Iteration 41 / 200) loss: 0.737899\n",
      "(Epoch 5 / 20) train acc: 0.650000; val_acc: 0.550000\n",
      "(Iteration 51 / 200) loss: 0.784658\n",
      "(Epoch 6 / 20) train acc: 0.750000; val_acc: 0.350000\n",
      "(Iteration 61 / 200) loss: 0.297162\n",
      "(Epoch 7 / 20) train acc: 0.650000; val_acc: 0.600000\n",
      "(Iteration 71 / 200) loss: 0.703480\n",
      "(Epoch 8 / 20) train acc: 0.750000; val_acc: 0.500000\n",
      "(Iteration 81 / 200) loss: 0.554789\n",
      "(Epoch 9 / 20) train acc: 0.700000; val_acc: 0.500000\n",
      "(Iteration 91 / 200) loss: 0.700895\n",
      "(Epoch 10 / 20) train acc: 0.700000; val_acc: 0.350000\n",
      "(Iteration 101 / 200) loss: 0.539087\n",
      "(Epoch 11 / 20) train acc: 0.800000; val_acc: 0.450000\n",
      "(Iteration 111 / 200) loss: 0.287246\n",
      "(Epoch 12 / 20) train acc: 0.800000; val_acc: 0.450000\n",
      "(Iteration 121 / 200) loss: 0.650025\n",
      "(Epoch 13 / 20) train acc: 0.750000; val_acc: 0.650000\n",
      "(Iteration 131 / 200) loss: 0.242413\n",
      "(Epoch 14 / 20) train acc: 0.750000; val_acc: 0.450000\n",
      "(Iteration 141 / 200) loss: 0.219999\n",
      "(Epoch 15 / 20) train acc: 0.750000; val_acc: 0.600000\n",
      "(Iteration 151 / 200) loss: 0.278756\n",
      "(Epoch 16 / 20) train acc: 0.900000; val_acc: 0.500000\n",
      "(Iteration 161 / 200) loss: 0.168642\n",
      "(Epoch 17 / 20) train acc: 0.900000; val_acc: 0.650000\n",
      "(Iteration 171 / 200) loss: 0.564936\n",
      "(Epoch 18 / 20) train acc: 0.950000; val_acc: 0.550000\n",
      "(Iteration 181 / 200) loss: 0.272110\n",
      "(Epoch 19 / 20) train acc: 0.950000; val_acc: 0.700000\n",
      "(Iteration 191 / 200) loss: 0.235797\n",
      "(Epoch 20 / 20) train acc: 0.900000; val_acc: 0.550000\n"
     ]
    }
   ],
   "source": [
    "from classifier.rnn_encoder_solver import EncoderSolver\n",
    "\n",
    "num_train = 200\n",
    "batch_size = 20\n",
    "small_data = {\n",
    "  'X_train': data['X_train'][:num_train],\n",
    "  'y_train': data['y_train'][:num_train],\n",
    "  'X_val': data['X_val'][:num_train/2],\n",
    "  'y_val': data['y_val'][:num_train/2],\n",
    "}\n",
    "\n",
    "X = T.imatrix('X')\n",
    "y = T.ivector('y')\n",
    "\n",
    "# max_seq_length = 57\n",
    "encoder = RNNEncoder(data['word_idx_map'], data['idx_word_map'], data['W_embed'], max_seq_length=20, batch_size=batch_size)\n",
    "solver = EncoderSolver(encoder,\n",
    "                       small_data, X, y,\n",
    "                num_epochs=20, batch_size=batch_size,\n",
    "                update_rule='adam',\n",
    "                optim_config={\n",
    "                  'learning_rate': 1e-2,\n",
    "                },\n",
    "                verbose=True, print_every=10)\n",
    "solver.train()"
   ]
  },
  {
   "cell_type": "code",
   "execution_count": 13,
   "metadata": {
    "collapsed": false
   },
   "outputs": [
    {
     "name": "stdout",
     "output_type": "stream",
     "text": [
      "val_acc 0.699999988079\n"
     ]
    }
   ],
   "source": [
    "val_loss, val_acc = solver.check_accuracy(small_data['X_val'], small_data['y_val'], batch_size=batch_size)\n",
    "print \"val_acc\", val_acc"
   ]
  },
  {
   "cell_type": "markdown",
   "metadata": {},
   "source": [
    "We **validate** our model by trying to overfit the data, and it proves to be the case."
   ]
  },
  {
   "cell_type": "code",
   "execution_count": 14,
   "metadata": {
    "collapsed": false
   },
   "outputs": [
    {
     "data": {
      "image/png": "[encoded data removed]",
      "text/plain": [
       "<matplotlib.figure.Figure at 0x11c362390>"
      ]
     },
     "metadata": {},
     "output_type": "display_data"
    }
   ],
   "source": [
    "# plot loss history\n",
    "plt.subplot(2, 1, 1)\n",
    "plt.plot(solver.loss_history, 'o')\n",
    "plt.xlabel('iteration')\n",
    "plt.ylabel('loss')\n",
    "\n",
    "plt.subplot(2, 1, 2)\n",
    "plt.plot(solver.train_acc_history, '-o')\n",
    "plt.plot(solver.val_acc_history, '-o')\n",
    "plt.legend(['train', 'val'], loc='upper left')\n",
    "plt.xlabel('epoch')\n",
    "plt.ylabel('accuracy')\n",
    "plt.show()"
   ]
  },
  {
   "cell_type": "code",
   "execution_count": 10,
   "metadata": {
    "collapsed": false
   },
   "outputs": [
    {
     "name": "stdout",
     "output_type": "stream",
     "text": [
      "(Iteration 1 / 19000) loss: 0.710787\n",
      "(Epoch 0 / 100) train acc: 0.420000; val_acc: 0.580000\n",
      "(Iteration 11 / 19000) loss: 0.657665\n"
     ]
    },
    {
     "ename": "KeyboardInterrupt",
     "evalue": "",
     "traceback": [
      "\u001b[0;31m---------------------------------------------------------------------------\u001b[0m",
      "\u001b[0;31mKeyboardInterrupt\u001b[0m                         Traceback (most recent call last)",
      "\u001b[0;32m<ipython-input-10-6c2689d2870c>\u001b[0m in \u001b[0;36m<module>\u001b[0;34m()\u001b[0m\n\u001b[1;32m     23\u001b[0m                 },\n\u001b[1;32m     24\u001b[0m                 verbose=True, print_every=10)\n\u001b[0;32m---> 25\u001b[0;31m \u001b[0msolver\u001b[0m\u001b[0;34m.\u001b[0m\u001b[0mtrain\u001b[0m\u001b[0;34m(\u001b[0m\u001b[0;34m)\u001b[0m\u001b[0;34m\u001b[0m\u001b[0m\n\u001b[0m",
      "\u001b[0;32m/Users/Aimingnie/Documents/School/Stanford/CS 224N/DeepLearning/allen/parable/classifier/rnn_encoder_solver.pyc\u001b[0m in \u001b[0;36mtrain\u001b[0;34m(self)\u001b[0m\n\u001b[1;32m    274\u001b[0m \u001b[0;34m\u001b[0m\u001b[0m\n\u001b[1;32m    275\u001b[0m         \u001b[0;32mfor\u001b[0m \u001b[0mt\u001b[0m \u001b[0;32min\u001b[0m \u001b[0mxrange\u001b[0m\u001b[0;34m(\u001b[0m\u001b[0mnum_iterations\u001b[0m\u001b[0;34m)\u001b[0m\u001b[0;34m:\u001b[0m\u001b[0;34m\u001b[0m\u001b[0m\n\u001b[0;32m--> 276\u001b[0;31m             \u001b[0mself\u001b[0m\u001b[0;34m.\u001b[0m\u001b[0m_step\u001b[0m\u001b[0;34m(\u001b[0m\u001b[0mt\u001b[0m\u001b[0;34m)\u001b[0m\u001b[0;34m\u001b[0m\u001b[0m\n\u001b[0m\u001b[1;32m    277\u001b[0m \u001b[0;34m\u001b[0m\u001b[0m\n\u001b[1;32m    278\u001b[0m             \u001b[0;31m# Maybe print training loss\u001b[0m\u001b[0;34m\u001b[0m\u001b[0;34m\u001b[0m\u001b[0m\n",
      "\u001b[0;32m/Users/Aimingnie/Documents/School/Stanford/CS 224N/DeepLearning/allen/parable/classifier/rnn_encoder_solver.pyc\u001b[0m in \u001b[0;36m_step\u001b[0;34m(self, t)\u001b[0m\n\u001b[1;32m    214\u001b[0m         \u001b[0;31m# y_batch_shared = wrap_shared_var(y_batch, 'y_batch' + str(t), borrow=True)\u001b[0m\u001b[0;34m\u001b[0m\u001b[0;34m\u001b[0m\u001b[0m\n\u001b[1;32m    215\u001b[0m \u001b[0;34m\u001b[0m\u001b[0m\n\u001b[0;32m--> 216\u001b[0;31m         \u001b[0mnum_loss\u001b[0m \u001b[0;34m=\u001b[0m \u001b[0mself\u001b[0m\u001b[0;34m.\u001b[0m\u001b[0mtrain_fn\u001b[0m\u001b[0;34m(\u001b[0m\u001b[0mX_batch\u001b[0m\u001b[0;34m,\u001b[0m \u001b[0my_batch\u001b[0m\u001b[0;34m)\u001b[0m\u001b[0;34m\u001b[0m\u001b[0m\n\u001b[0m\u001b[1;32m    217\u001b[0m \u001b[0;34m\u001b[0m\u001b[0m\n\u001b[1;32m    218\u001b[0m         \u001b[0mself\u001b[0m\u001b[0;34m.\u001b[0m\u001b[0mloss_history\u001b[0m\u001b[0;34m.\u001b[0m\u001b[0mappend\u001b[0m\u001b[0;34m(\u001b[0m\u001b[0mnum_loss\u001b[0m\u001b[0;34m)\u001b[0m\u001b[0;34m\u001b[0m\u001b[0m\n",
      "\u001b[0;32m/usr/local/lib/python2.7/site-packages/theano/compile/function_module.pyc\u001b[0m in \u001b[0;36m__call__\u001b[0;34m(self, *args, **kwargs)\u001b[0m\n\u001b[1;32m    857\u001b[0m         \u001b[0mt0_fn\u001b[0m \u001b[0;34m=\u001b[0m \u001b[0mtime\u001b[0m\u001b[0;34m.\u001b[0m\u001b[0mtime\u001b[0m\u001b[0;34m(\u001b[0m\u001b[0;34m)\u001b[0m\u001b[0;34m\u001b[0m\u001b[0m\n\u001b[1;32m    858\u001b[0m         \u001b[0;32mtry\u001b[0m\u001b[0;34m:\u001b[0m\u001b[0;34m\u001b[0m\u001b[0m\n\u001b[0;32m--> 859\u001b[0;31m             \u001b[0moutputs\u001b[0m \u001b[0;34m=\u001b[0m \u001b[0mself\u001b[0m\u001b[0;34m.\u001b[0m\u001b[0mfn\u001b[0m\u001b[0;34m(\u001b[0m\u001b[0;34m)\u001b[0m\u001b[0;34m\u001b[0m\u001b[0m\n\u001b[0m\u001b[1;32m    860\u001b[0m         \u001b[0;32mexcept\u001b[0m \u001b[0mException\u001b[0m\u001b[0;34m:\u001b[0m\u001b[0;34m\u001b[0m\u001b[0m\n\u001b[1;32m    861\u001b[0m             \u001b[0;32mif\u001b[0m \u001b[0mhasattr\u001b[0m\u001b[0;34m(\u001b[0m\u001b[0mself\u001b[0m\u001b[0;34m.\u001b[0m\u001b[0mfn\u001b[0m\u001b[0;34m,\u001b[0m \u001b[0;34m'position_of_error'\u001b[0m\u001b[0;34m)\u001b[0m\u001b[0;34m:\u001b[0m\u001b[0;34m\u001b[0m\u001b[0m\n",
      "\u001b[0;32m/usr/local/lib/python2.7/site-packages/theano/scan_module/scan_op.pyc\u001b[0m in \u001b[0;36mrval\u001b[0;34m(p, i, o, n, allow_gc)\u001b[0m\n\u001b[1;32m    961\u001b[0m         def rval(p=p, i=node_input_storage, o=node_output_storage, n=node,\n\u001b[1;32m    962\u001b[0m                  allow_gc=allow_gc):\n\u001b[0;32m--> 963\u001b[0;31m             \u001b[0mr\u001b[0m \u001b[0;34m=\u001b[0m \u001b[0mp\u001b[0m\u001b[0;34m(\u001b[0m\u001b[0mn\u001b[0m\u001b[0;34m,\u001b[0m \u001b[0;34m[\u001b[0m\u001b[0mx\u001b[0m\u001b[0;34m[\u001b[0m\u001b[0;36m0\u001b[0m\u001b[0;34m]\u001b[0m \u001b[0;32mfor\u001b[0m \u001b[0mx\u001b[0m \u001b[0;32min\u001b[0m \u001b[0mi\u001b[0m\u001b[0;34m]\u001b[0m\u001b[0;34m,\u001b[0m \u001b[0mo\u001b[0m\u001b[0;34m)\u001b[0m\u001b[0;34m\u001b[0m\u001b[0m\n\u001b[0m\u001b[1;32m    964\u001b[0m             \u001b[0;32mfor\u001b[0m \u001b[0mo\u001b[0m \u001b[0;32min\u001b[0m \u001b[0mnode\u001b[0m\u001b[0;34m.\u001b[0m\u001b[0moutputs\u001b[0m\u001b[0;34m:\u001b[0m\u001b[0;34m\u001b[0m\u001b[0m\n\u001b[1;32m    965\u001b[0m                 \u001b[0mcompute_map\u001b[0m\u001b[0;34m[\u001b[0m\u001b[0mo\u001b[0m\u001b[0;34m]\u001b[0m\u001b[0;34m[\u001b[0m\u001b[0;36m0\u001b[0m\u001b[0;34m]\u001b[0m \u001b[0;34m=\u001b[0m \u001b[0mTrue\u001b[0m\u001b[0;34m\u001b[0m\u001b[0m\n",
      "\u001b[0;32m/usr/local/lib/python2.7/site-packages/theano/scan_module/scan_op.pyc\u001b[0m in \u001b[0;36m<lambda>\u001b[0;34m(node, args, outs)\u001b[0m\n\u001b[1;32m    950\u001b[0m                         \u001b[0margs\u001b[0m\u001b[0;34m,\u001b[0m\u001b[0;34m\u001b[0m\u001b[0m\n\u001b[1;32m    951\u001b[0m                         \u001b[0mouts\u001b[0m\u001b[0;34m,\u001b[0m\u001b[0;34m\u001b[0m\u001b[0m\n\u001b[0;32m--> 952\u001b[0;31m                         self, node)\n\u001b[0m\u001b[1;32m    953\u001b[0m         \u001b[0;32mexcept\u001b[0m \u001b[0;34m(\u001b[0m\u001b[0mImportError\u001b[0m\u001b[0;34m,\u001b[0m \u001b[0mtheano\u001b[0m\u001b[0;34m.\u001b[0m\u001b[0mgof\u001b[0m\u001b[0;34m.\u001b[0m\u001b[0mcmodule\u001b[0m\u001b[0;34m.\u001b[0m\u001b[0mMissingGXX\u001b[0m\u001b[0;34m)\u001b[0m\u001b[0;34m:\u001b[0m\u001b[0;34m\u001b[0m\u001b[0m\n\u001b[1;32m    954\u001b[0m             \u001b[0mp\u001b[0m \u001b[0;34m=\u001b[0m \u001b[0mself\u001b[0m\u001b[0;34m.\u001b[0m\u001b[0mexecute\u001b[0m\u001b[0;34m\u001b[0m\u001b[0m\n",
      "\u001b[0;32mtheano/scan_module/scan_perform.pyx\u001b[0m in \u001b[0;36mtheano.scan_module.scan_perform.perform (/Users/Aimingnie/.theano/compiledir_Darwin-14.5.0-x86_64-i386-64bit-i386-2.7.10-64/scan_perform/mod.cpp:4193)\u001b[0;34m()\u001b[0m\n",
      "\u001b[0;32m/usr/local/lib/python2.7/site-packages/theano/gof/op.pyc\u001b[0m in \u001b[0;36mrval\u001b[0;34m(p, i, o, n)\u001b[0m\n\u001b[1;32m    905\u001b[0m         \u001b[0;32mif\u001b[0m \u001b[0mparams\u001b[0m \u001b[0;32mis\u001b[0m \u001b[0mgraph\u001b[0m\u001b[0;34m.\u001b[0m\u001b[0mNoParams\u001b[0m\u001b[0;34m:\u001b[0m\u001b[0;34m\u001b[0m\u001b[0m\n\u001b[1;32m    906\u001b[0m             \u001b[0;31m# default arguments are stored in the closure of `rval`\u001b[0m\u001b[0;34m\u001b[0m\u001b[0;34m\u001b[0m\u001b[0m\n\u001b[0;32m--> 907\u001b[0;31m             \u001b[0;32mdef\u001b[0m \u001b[0mrval\u001b[0m\u001b[0;34m(\u001b[0m\u001b[0mp\u001b[0m\u001b[0;34m=\u001b[0m\u001b[0mp\u001b[0m\u001b[0;34m,\u001b[0m \u001b[0mi\u001b[0m\u001b[0;34m=\u001b[0m\u001b[0mnode_input_storage\u001b[0m\u001b[0;34m,\u001b[0m \u001b[0mo\u001b[0m\u001b[0;34m=\u001b[0m\u001b[0mnode_output_storage\u001b[0m\u001b[0;34m,\u001b[0m \u001b[0mn\u001b[0m\u001b[0;34m=\u001b[0m\u001b[0mnode\u001b[0m\u001b[0;34m)\u001b[0m\u001b[0;34m:\u001b[0m\u001b[0;34m\u001b[0m\u001b[0m\n\u001b[0m\u001b[1;32m    908\u001b[0m                 \u001b[0mr\u001b[0m \u001b[0;34m=\u001b[0m \u001b[0mp\u001b[0m\u001b[0;34m(\u001b[0m\u001b[0mn\u001b[0m\u001b[0;34m,\u001b[0m \u001b[0;34m[\u001b[0m\u001b[0mx\u001b[0m\u001b[0;34m[\u001b[0m\u001b[0;36m0\u001b[0m\u001b[0;34m]\u001b[0m \u001b[0;32mfor\u001b[0m \u001b[0mx\u001b[0m \u001b[0;32min\u001b[0m \u001b[0mi\u001b[0m\u001b[0;34m]\u001b[0m\u001b[0;34m,\u001b[0m \u001b[0mo\u001b[0m\u001b[0;34m)\u001b[0m\u001b[0;34m\u001b[0m\u001b[0m\n\u001b[1;32m    909\u001b[0m                 \u001b[0;32mfor\u001b[0m \u001b[0mo\u001b[0m \u001b[0;32min\u001b[0m \u001b[0mnode\u001b[0m\u001b[0;34m.\u001b[0m\u001b[0moutputs\u001b[0m\u001b[0;34m:\u001b[0m\u001b[0;34m\u001b[0m\u001b[0m\n",
      "\u001b[0;31mKeyboardInterrupt\u001b[0m: "
     ],
     "output_type": "error"
    }
   ],
   "source": [
    "from classifier.rnn_encoder_solver import EncoderSolver\n",
    "\n",
    "num_train = 9500\n",
    "batch_size = 50\n",
    "small_data = {\n",
    "  'X_train': data['X_train'][:num_train],\n",
    "  'y_train': data['y_train'][:num_train],\n",
    "  'X_val': data['X_val'][:500],\n",
    "  'y_val': data['y_val'][:500],\n",
    "}\n",
    "\n",
    "X = T.imatrix('X')\n",
    "y = T.ivector('y')\n",
    "\n",
    "# max_seq_length = 57\n",
    "encoder = RNNEncoder(data['word_idx_map'], data['idx_word_map'], data['W_embed'], max_seq_length=57, batch_size=batch_size)\n",
    "solver = EncoderSolver(encoder,\n",
    "                       small_data, X, y,\n",
    "                num_epochs=100, batch_size=batch_size,\n",
    "                update_rule='adam',\n",
    "                optim_config={\n",
    "                  'learning_rate': 1e-2,\n",
    "                },\n",
    "                verbose=True, print_every=10)\n",
    "solver.train()"
   ]
  },
  {
   "cell_type": "code",
   "execution_count": null,
   "metadata": {
    "collapsed": true
   },
   "outputs": [],
   "source": [
    ""
   ]
  }
 ],
 "metadata": {
  "kernelspec": {
   "display_name": "Python 2",
   "language": "python",
   "name": "python2"
  },
  "language_info": {
   "codemirror_mode": {
    "name": "ipython",
    "version": 2.0
   },
   "file_extension": ".py",
   "mimetype": "text/x-python",
   "name": "python",
   "nbconvert_exporter": "python",
   "pygments_lexer": "ipython2",
   "version": "2.7.10"
  }
 },
 "nbformat": 4,
 "nbformat_minor": 0
}